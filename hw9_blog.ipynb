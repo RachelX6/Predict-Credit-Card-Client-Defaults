{
 "cells": [
  {
   "cell_type": "markdown",
   "id": "62bc1099-ae4d-4868-8ab0-a709fcd0a771",
   "metadata": {},
   "source": [
    "Write up your analysis from hw5 or any other assignment or your side project on machine learning in a \"blog post\" or report format. It's fine if you just write it here in this notebook. Alternatively, you can publish your blog post publicly and include a link here. (See exercise 2.3.) The target audience for your blog post is someone like yourself right before you took this course. They don't necessarily have ML knowledge, but they have a solid foundation in technical matters. The post should focus on explaining your results and what you did in a way that's understandable to such a person, not a lesson trying to teach someone about machine learning. Again: focus on the results and why they are interesting; avoid pedagogical content."
   ]
  },
  {
   "cell_type": "markdown",
   "id": "2709bc2d-5f92-406b-96b4-d406a8940f57",
   "metadata": {},
   "source": [
    "happy happy happy heloo my name is rachel"
   ]
  },
  {
   "cell_type": "markdown",
   "id": "3b9dd2d8-8e40-456c-b479-3b871b20acf7",
   "metadata": {},
   "source": [
    "hellooo\n"
   ]
  },
  {
   "cell_type": "code",
   "execution_count": 2,
   "id": "5f5d4ab7-7bb8-4442-93a1-984140c3c4f4",
   "metadata": {},
   "outputs": [],
   "source": [
    "import numpy as np\n",
    "import pandas as pd"
   ]
  },
  {
   "cell_type": "code",
   "execution_count": 4,
   "id": "3225277f-ace4-4059-a929-878f269e9b47",
   "metadata": {},
   "outputs": [
    {
     "data": {
      "text/plain": [
       "9"
      ]
     },
     "execution_count": 4,
     "metadata": {},
     "output_type": "execute_result"
    }
   ],
   "source": [
    "testing = 9\n",
    "testing"
   ]
  },
  {
   "cell_type": "code",
   "execution_count": null,
   "id": "02bb12d7-d4b9-43c3-b922-d22c05aa71e3",
   "metadata": {},
   "outputs": [],
   "source": []
  }
 ],
 "metadata": {
  "kernelspec": {
   "display_name": "Python [conda env:cpsc330] *",
   "language": "python",
   "name": "conda-env-cpsc330-py"
  },
  "language_info": {
   "codemirror_mode": {
    "name": "ipython",
    "version": 3
   },
   "file_extension": ".py",
   "mimetype": "text/x-python",
   "name": "python",
   "nbconvert_exporter": "python",
   "pygments_lexer": "ipython3",
   "version": "3.12.0"
  }
 },
 "nbformat": 4,
 "nbformat_minor": 5
}
